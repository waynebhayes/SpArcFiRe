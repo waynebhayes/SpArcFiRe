{
 "cells": [
  {
   "cell_type": "code",
   "execution_count": 1,
   "id": "e0261ad3-e2da-4e8d-a98b-a214501fa062",
   "metadata": {
    "tags": []
   },
   "outputs": [],
   "source": [
    "import os\n",
    "import sys\n",
    "\n",
    "from os.path import join as pj\n",
    "from os.path import abspath as absp\n",
    "from os.path import exists\n",
    "\n",
    "import shutil\n",
    "import subprocess\n",
    "from copy import deepcopy\n",
    "from astropy.io import fits"
   ]
  },
  {
   "cell_type": "code",
   "execution_count": 2,
   "id": "f903eb5a-cd29-4155-b5b5-d5448bff1c57",
   "metadata": {
    "tags": []
   },
   "outputs": [],
   "source": [
    "# For debugging purposes\n",
    "from IPython import get_ipython\n",
    "def in_notebook():\n",
    "    ip = get_ipython()\n",
    "    \n",
    "    if ip:\n",
    "        return True\n",
    "    else:\n",
    "        return False"
   ]
  },
  {
   "cell_type": "code",
   "execution_count": 3,
   "id": "cef15126-c44a-4602-a1a6-675b2fe46b64",
   "metadata": {
    "tags": []
   },
   "outputs": [],
   "source": [
    "_HOME_DIR = os.path.expanduser(\"~\")\n",
    "if in_notebook():\n",
    "    _SPARCFIRE_DIR = pj(_HOME_DIR, \"sparcfire_matt\") \n",
    "    _MODULE_DIR    = pj(_SPARCFIRE_DIR, \"GalfitModule\")\n",
    "else:\n",
    "    try:\n",
    "        _SPARCFIRE_DIR = os.environ[\"SPARCFIRE_HOME\"]\n",
    "        _MODULE_DIR = pj(_SPARCFIRE_DIR, \"GalfitModule\")\n",
    "    except KeyError:\n",
    "        if __name__ == \"__main__\":\n",
    "            print(\"SPARCFIRE_HOME is not set. Please run 'setup.bash' inside SpArcFiRe directory if not done so already.\")\n",
    "            print(\"Checking the current directory for GalfitModule, otherwise quitting.\")\n",
    "            \n",
    "        _MODULE_DIR = pj(os.getcwd(), \"GalfitModule\")\n",
    "        \n",
    "        if not exists(_MODULE_DIR):\n",
    "            raise Exception(\"Could not find GalfitModule!\")\n",
    "\n",
    "sys.path.append(_MODULE_DIR)"
   ]
  },
  {
   "cell_type": "code",
   "execution_count": 4,
   "id": "c882d95f-4554-4a55-ab42-016b694b5e07",
   "metadata": {
    "tags": []
   },
   "outputs": [],
   "source": [
    "def export_to_py(notebook_name, output_filename = \"\"):\n",
    "    from IPython import get_ipython\n",
    "    \n",
    "    if not notebook_name.endswith(\".ipynb\"):\n",
    "        notebook_name += \".ipynb\"\n",
    "    \n",
    "    if in_notebook():\n",
    "        print(f\"Converting {notebook_name}\")\n",
    "        \n",
    "        result = !jupyter nbconvert --to script {notebook_name}\n",
    "        \n",
    "        if output_filename:\n",
    "            filename = result[1].split()[-1]\n",
    "            try:\n",
    "                if not output_filename.endswith(\".py\"):\n",
    "                    output_filename += \".py\"\n",
    "                    \n",
    "                os.rename(filename, output_filename)\n",
    "                \n",
    "            except FileNotFoundError as f:\n",
    "                print(f\"Could not find {filename} per error {f}...\")\n",
    "                print(\"Output from nbconvert: \", *result)"
   ]
  },
  {
   "cell_type": "code",
   "execution_count": 5,
   "id": "e97a9cac-d3d4-4c57-a149-60a687cf4cbd",
   "metadata": {
    "tags": []
   },
   "outputs": [],
   "source": [
    "def sp(cmd_str, capture_output = True, timeout = None):\n",
    "    # Because it is a pain in the butt to call subprocess with all those commands every time\n",
    "    return subprocess.run(cmd_str, \n",
    "                          capture_output = capture_output, \n",
    "                          text = True, \n",
    "                          shell = True,\n",
    "                          timeout = timeout,\n",
    "                          executable=\"/bin/bash\")"
   ]
  },
  {
   "cell_type": "code",
   "execution_count": 6,
   "id": "e2040c9f-dd92-4e5d-b349-abd1a45c0526",
   "metadata": {
    "tags": []
   },
   "outputs": [],
   "source": [
    "def check_programs():\n",
    "\n",
    "    # This seems to work in Python directly so I'm leaving it as-is\n",
    "    # Checking galfit\n",
    "    hostname = sp(f\"hostname\").stdout.split(\".\")[0]\n",
    "    \n",
    "    run_galfit = shutil.which(f\"galfit_{hostname}\")\n",
    "    if not run_galfit:\n",
    "        run_galfit = shutil.which(f\"galfit\")\n",
    "\n",
    "    # Checking fitspng\n",
    "    run_fitspng   = shutil.which(\"fitspng\")\n",
    "\n",
    "    # Checking exact python3 call\n",
    "    run_python = shutil.which(\"python3\")\n",
    "\n",
    "    return run_galfit, run_fitspng, run_python\n",
    "\n",
    "global run_galfit\n",
    "global run_fitspng\n",
    "global run_python\n",
    "run_galfit, run_fitspng, run_python = check_programs()"
   ]
  },
  {
   "cell_type": "code",
   "execution_count": 7,
   "id": "f0093196-0c1d-4c52-8585-f2a329768cad",
   "metadata": {},
   "outputs": [],
   "source": [
    "def find_files(search_dir = \".\", search_pattern = \"*\", filetype = \"f\"):\n",
    "    \n",
    "    if filetype in (\"d\", \"folder\", \"dir\", \"directory\"):\n",
    "        type_cmd = \"d\"\n",
    "        \n",
    "    elif filetype in (\"f\", \"file\"):\n",
    "        type_cmd = \"f\"\n",
    "        \n",
    "    result = sp(f\"find {pj(search_dir)} -maxdepth 1 -type {filetype} -name \\\"{search_pattern}\\\"\")\n",
    "    \n",
    "    return [os.path.basename(i) for i in result.stdout.split(\"\\n\") if i]"
   ]
  },
  {
   "cell_type": "code",
   "execution_count": 8,
   "id": "5edc2d07-fe7a-455d-b057-99f99819b329",
   "metadata": {
    "tags": []
   },
   "outputs": [],
   "source": [
    "# Writing this to replace os.path.exists since that's too slow\n",
    "def exists(filename):\n",
    "    result = sp(f\"[ -e {filename} ] && echo 1 || echo 0\")\n",
    "    return bool(int(result.stdout))"
   ]
  },
  {
   "cell_type": "code",
   "execution_count": 9,
   "id": "060f91ef-50a9-4dbc-ae0a-8e48c4b7b913",
   "metadata": {
    "tags": []
   },
   "outputs": [],
   "source": [
    "def generate_get_set(input_dict): #, exclude = []):\n",
    "    exec_str = \"\"\n",
    "    for key,v in input_dict.items():\n",
    "        exec_str += f\"\"\"@property\n",
    "def {key}(self):\n",
    "    return self.{v}\n",
    "            \n",
    "@{key}.setter\n",
    "def {key}(self, new_val):\n",
    "    self.{v} = new_val\n",
    "\n",
    "\"\"\"\n",
    "    return exec_str"
   ]
  },
  {
   "cell_type": "code",
   "execution_count": 10,
   "id": "0a10b0d9-7b37-457a-a904-1e9865560004",
   "metadata": {
    "tags": []
   },
   "outputs": [],
   "source": [
    "if __name__ == \"__main__\":\n",
    "    from RegTest.RegTest import *"
   ]
  },
  {
   "cell_type": "code",
   "execution_count": 11,
   "id": "a68c47e6-ab1b-42b5-ac31-6a5f44e1f9cf",
   "metadata": {
    "tags": []
   },
   "outputs": [],
   "source": [
    "# Unit test for sp\n",
    "# The components and things will overwrite files rather than append\n",
    "# so the second touch is unnecessary\n",
    "if __name__ == \"__main__\":\n",
    "    stdout_file   = \"UnitTestStdOutput.txt\"\n",
    "    # writeout_file = \"UnitTestWriteOuput.txt\"\n",
    "    \n",
    "    stdout_dest   = pj(TEST_OUTPUT_DIR, stdout_file)\n",
    "    # writeout_dest = pj(_MODULE_DIR, \"RegTest\", \"TestOutput\", writeout_file)\n",
    "    \n",
    "    touch_stdout   = sp(f\"touch {stdout_dest}\")\n",
    "    # touch_writeout = sp(f\"touch {writeout_dest}\")\n",
    "    \n",
    "    # if touch_stdout.stderr or touch_writeout.stderr:\n",
    "    if touch_stdout.stderr:\n",
    "        print(\"Touch failed in helper_functions unit test.\")\n",
    "        print(touch_stdout.stderr)\n",
    "        # print(touch_writeout.stderr)\n",
    "        raise(Exception())"
   ]
  },
  {
   "cell_type": "code",
   "execution_count": 12,
   "id": "5cc34ea2-fcfb-48c5-b4df-c0fa06535645",
   "metadata": {
    "tags": []
   },
   "outputs": [
    {
     "name": "stdout",
     "output_type": "stream",
     "text": [
      "['1237655463239155886.fits', '1237667735062577326.fits', '1237667735565238388.fits', '1237667911674233053.fits', '1237667911674691747.fits', '1237667912741355660.fits', '1237668310013640891.fits', '1237668311090200859.fits', '1237668589728366770.fits', '1237671124293910779.fits', '1237671124296532233.fits']\n",
      "\n",
      "['1237655463239155886', '1237667735062577326', '1237667735565238388', '1237667911674233053', '1237667911674691747', '1237667912741355660', '1237668310013640891', '1237668311090200859', '1237668589728366770', '1237671124293910779', '1237671124296532233']\n"
     ]
    }
   ],
   "source": [
    "# Unit test for list_files\n",
    "if __name__ == \"__main__\":\n",
    "    \n",
    "    print(sorted(find_files(pj(TEST_DATA_DIR, \"test-in\"), \"*.fits\", \"f\")))\n",
    "    print()\n",
    "    print(sorted(find_files(pj(TEST_DATA_DIR, \"test-out\"), \"123*\", \"d\")))"
   ]
  },
  {
   "cell_type": "code",
   "execution_count": 13,
   "id": "4a228b47-9bf8-4e18-b8fb-7839c536d64a",
   "metadata": {
    "tags": []
   },
   "outputs": [
    {
     "name": "stdout",
     "output_type": "stream",
     "text": [
      "Does test-in exist? True\n",
      "Does test-spout exist? False\n"
     ]
    }
   ],
   "source": [
    "# Unit test for exists\n",
    "if __name__ == \"__main__\":\n",
    "    \n",
    "    print(\"Does test-in exist?\", exists(pj(TEST_DATA_DIR, \"test-in\")))\n",
    "    print(\"Does test-spout exist?\", exists(pj(TEST_DATA_DIR, \"test-spout\")))"
   ]
  },
  {
   "cell_type": "code",
   "execution_count": 14,
   "id": "3cdbb318-aa24-488a-b1e8-f733534009a1",
   "metadata": {
    "tags": []
   },
   "outputs": [
    {
     "name": "stdout",
     "output_type": "stream",
     "text": [
      "@property\n",
      "def x(self):\n",
      "    return self._x1\n",
      "            \n",
      "@x.setter\n",
      "def x(self, new_val):\n",
      "    self._x1 = new_val\n",
      "\n",
      "\n",
      "bye\n",
      "hi\n"
     ]
    }
   ],
   "source": [
    "if __name__ == \"__main__\":\n",
    "    print(generate_get_set({\"x\" : \"_x1\"}))\n",
    "    \n",
    "    class Fake():\n",
    "        def __init__(self):\n",
    "            self._x1 = \"bye\"\n",
    "\n",
    "        exec(generate_get_set({\"x\" : \"_x1\"}))\n",
    "        \n",
    "    y = Fake()\n",
    "    print(y.x)\n",
    "    y.x = \"hi\"\n",
    "    print(y._x1)"
   ]
  },
  {
   "cell_type": "code",
   "execution_count": 15,
   "id": "8703c4f4-51bc-436c-9526-2f716894a121",
   "metadata": {
    "tags": []
   },
   "outputs": [
    {
     "name": "stdout",
     "output_type": "stream",
     "text": [
      "Converting helper_functions.ipynb\n"
     ]
    }
   ],
   "source": [
    "if __name__ == \"__main__\":\n",
    "    export_to_py(\"helper_functions\", pj(_MODULE_DIR, \"Functions\", \"helper_functions\"))"
   ]
  }
 ],
 "metadata": {
  "kernelspec": {
   "display_name": "Python 3 (ipykernel)",
   "language": "python",
   "name": "python3"
  },
  "language_info": {
   "codemirror_mode": {
    "name": "ipython",
    "version": 3
   },
   "file_extension": ".py",
   "mimetype": "text/x-python",
   "name": "python",
   "nbconvert_exporter": "python",
   "pygments_lexer": "ipython3",
   "version": "3.11.4"
  }
 },
 "nbformat": 4,
 "nbformat_minor": 5
}
